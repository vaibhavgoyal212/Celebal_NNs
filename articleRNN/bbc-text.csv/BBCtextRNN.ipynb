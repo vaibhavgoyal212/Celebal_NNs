{
 "cells": [
  {
   "cell_type": "code",
   "execution_count": 1,
   "id": "ab3964b6",
   "metadata": {},
   "outputs": [
    {
     "name": "stderr",
     "output_type": "stream",
     "text": [
      "[nltk_data] Downloading package punkt to\n",
      "[nltk_data]     C:\\Users\\goyal\\AppData\\Roaming\\nltk_data...\n",
      "[nltk_data]   Package punkt is already up-to-date!\n",
      "[nltk_data] Downloading package stopwords to\n",
      "[nltk_data]     C:\\Users\\goyal\\AppData\\Roaming\\nltk_data...\n",
      "[nltk_data]   Package stopwords is already up-to-date!\n",
      "[nltk_data] Downloading package wordnet to\n",
      "[nltk_data]     C:\\Users\\goyal\\AppData\\Roaming\\nltk_data...\n",
      "[nltk_data]   Package wordnet is already up-to-date!\n"
     ]
    }
   ],
   "source": [
    "import pandas as pd \n",
    "import numpy as np \n",
    "import seaborn as sns\n",
    "import matplotlib.pyplot as plt\n",
    "import re\n",
    "import nltk\n",
    "nltk.download('punkt')\n",
    "nltk.download('stopwords')\n",
    "nltk.download('wordnet')\n",
    "from sklearn.preprocessing import LabelEncoder\n",
    "from sklearn.model_selection import GridSearchCV\n",
    "from sklearn.model_selection import train_test_split\n"
   ]
  },
  {
   "cell_type": "code",
   "execution_count": 2,
   "id": "a0956d91",
   "metadata": {},
   "outputs": [],
   "source": [
    "file_url = 'bbc-text.csv'\n",
    "df = pd.read_csv(file_url)"
   ]
  },
  {
   "cell_type": "code",
   "execution_count": 3,
   "id": "2b998bc2",
   "metadata": {},
   "outputs": [
    {
     "name": "stdout",
     "output_type": "stream",
     "text": [
      "Index(['category', 'text'], dtype='object') (2225, 2) \n",
      " ['tech' 'business' 'sport' 'entertainment' 'politics'] \n",
      "            category                                               text\n",
      "426           sport  bortolami predicts dour contest italy skipper ...\n",
      "2162           tech  who do you think you are  the real danger is n...\n",
      "277   entertainment  band aid retains number one spot the charity s...\n",
      "2189           tech  mobile networks seek turbo boost third-generat...\n",
      "1741           tech  us state acts to stop  spammers  us state texa...\n"
     ]
    }
   ],
   "source": [
    "print(df.columns,df.shape,'\\n', df.category.unique(),'\\n',df.sample(5))"
   ]
  },
  {
   "cell_type": "code",
   "execution_count": 4,
   "id": "7a8b3393",
   "metadata": {},
   "outputs": [
    {
     "name": "stderr",
     "output_type": "stream",
     "text": [
      "C:\\Users\\goyal\\AppData\\Local\\Programs\\Python\\Python310\\lib\\site-packages\\seaborn\\_decorators.py:36: FutureWarning: Pass the following variable as a keyword arg: x. From version 0.12, the only valid positional argument will be `data`, and passing other arguments without an explicit keyword will result in an error or misinterpretation.\n",
      "  warnings.warn(\n"
     ]
    },
    {
     "data": {
      "text/plain": [
       "<AxesSubplot:xlabel='category', ylabel='count'>"
      ]
     },
     "execution_count": 4,
     "metadata": {},
     "output_type": "execute_result"
    },
    {
     "data": {
      "image/png": "[encoded data removed]",
      "text/plain": [
       "<Figure size 432x288 with 1 Axes>"
      ]
     },
     "metadata": {
      "needs_background": "light"
     },
     "output_type": "display_data"
    }
   ],
   "source": [
    "sns.countplot(df.category)"
   ]
  },
  {
   "cell_type": "code",
   "execution_count": 5,
   "id": "571ef05c",
   "metadata": {},
   "outputs": [
    {
     "name": "stdout",
     "output_type": "stream",
     "text": [
      "<class 'pandas.core.frame.DataFrame'>\n",
      "RangeIndex: 2225 entries, 0 to 2224\n",
      "Data columns (total 2 columns):\n",
      " #   Column    Non-Null Count  Dtype \n",
      "---  ------    --------------  ----- \n",
      " 0   category  2225 non-null   object\n",
      " 1   text      2225 non-null   object\n",
      "dtypes: object(2)\n",
      "memory usage: 34.9+ KB\n"
     ]
    }
   ],
   "source": [
    "df.info()"
   ]
  },
  {
   "cell_type": "code",
   "execution_count": 6,
   "id": "e15eaf76",
   "metadata": {},
   "outputs": [
    {
     "data": {
      "text/plain": [
       "sport            511\n",
       "business         510\n",
       "politics         417\n",
       "tech             401\n",
       "entertainment    386\n",
       "Name: category, dtype: int64"
      ]
     },
     "execution_count": 6,
     "metadata": {},
     "output_type": "execute_result"
    }
   ],
   "source": [
    "df.category.value_counts()"
   ]
  },
  {
   "cell_type": "code",
   "execution_count": 7,
   "id": "3f794b28",
   "metadata": {},
   "outputs": [],
   "source": [
    "def getReviewFromIndex(index):\n",
    "    example = df[df.index == index][['category', 'text']].values[0]\n",
    "    if len(example) > 0:\n",
    "        print(example[0])\n",
    "        print(example[1])"
   ]
  },
  {
   "cell_type": "code",
   "execution_count": 8,
   "id": "64d3aeee",
   "metadata": {},
   "outputs": [
    {
     "name": "stdout",
     "output_type": "stream",
     "text": [
      "business\n",
      "crude oil prices back above $50 cold weather across parts of the united states and much of europe has pushed us crude oil prices above $50 a barrel for the first time in almost three months.  freezing temperatures and heavy snowfall have increased demand for heating fuel in the us  where stocks are low. fresh falls in the value of the dollar helped carry prices above the $50 mark for the first time since november. a barrel of us crude oil closed up $2.80 to $51.15 in new york on tuesday. opec members said on tuesday that it saw no reason to cut its output.  although below last year s peak of $55.67 a barrel  which was reached in october  prices are now well above 2004 s average of $41.48.  brent crude also rose in london trading  adding $1.89 to $48.62 at the close. much of western europe and the north east of america has been shivering under unseasonably low temperatures in recent days. the decline in the us dollar to a five-week low against the euro has also served to inflate prices.  the dollar moved sharply overnight and oil is following it   said chris furness  senior market strategist at 4cast.  if the dollar continues to weaken  oil will be obviously higher.   several opec members said a cut in production was unlikely  citing rising prices and strong demand for oil from asia.  i agree that we do not need to cut supply if the prices are as much as this   fathi bin shatwan  libya s oil minister  told reuters.  i do not think we need to cut unless the prices are falling below $35 a barrel   he added. opec closely watches global stocks to ensure that there is not an excessive supply in the market. the arrival of spring in the northern hemisphere will focus attention on stockpiles of us crude and gasoline  which are up to 9% higher than at this time last year. heavy stockpiles could help force prices lower when demand eases.\n"
     ]
    }
   ],
   "source": [
    "getReviewFromIndex(12)"
   ]
  },
  {
   "cell_type": "code",
   "execution_count": 9,
   "id": "38729357",
   "metadata": {},
   "outputs": [],
   "source": [
    "import keras \n",
    "from keras.preprocessing.text import Tokenizer\n",
    "from keras_preprocessing.sequence import pad_sequences\n",
    "from keras.models import Sequential\n",
    "from keras.layers import Dense, Embedding, LSTM, SpatialDropout1D\n",
    "from sklearn.model_selection import train_test_split\n",
    "from keras.utils.np_utils import to_categorical\n",
    "from keras.callbacks import EarlyStopping\n",
    "from keras.layers import Dropout\n",
    "import re\n"
   ]
  },
  {
   "cell_type": "code",
   "execution_count": 10,
   "id": "d3418f2e",
   "metadata": {},
   "outputs": [],
   "source": [
    "import nltk "
   ]
  },
  {
   "cell_type": "code",
   "execution_count": 11,
   "id": "5f03009b",
   "metadata": {},
   "outputs": [],
   "source": [
    "from nltk.corpus import stopwords\n",
    "from nltk import word_tokenize\n",
    "STOPWORDS = set(stopwords.words('english'))\n"
   ]
  },
  {
   "cell_type": "code",
   "execution_count": 12,
   "id": "592f084b",
   "metadata": {},
   "outputs": [],
   "source": [
    "#cleaning the text \n",
    "REPLACE_BY_SPACE_RE = re.compile('[/(){}\\[\\]\\|@,;]')\n",
    "BAD_SYMBOLS_RE = re.compile('[^0-9a-z #+_]')\n",
    "STOPWORDS = set(stopwords.words('english'))\n",
    "\n",
    "def clean_text(text):\n",
    "  \n",
    "    text = text.lower() # lowercase text\n",
    "    text = REPLACE_BY_SPACE_RE.sub(' ', text) # replace REPLACE_BY_SPACE_RE symbols by space in text. substitute the matched string in REPLACE_BY_SPACE_RE with space.\n",
    "    text = BAD_SYMBOLS_RE.sub('', text) # remove symbols which are in BAD_SYMBOLS_RE from text. substitute the matched string in BAD_SYMBOLS_RE with nothing. \n",
    "    text = text.replace('x', '')\n",
    "    text = ' '.join(word for word in text.split() if word not in STOPWORDS) # remove stopwors from text\n",
    "    return text\n",
    "df['text'] = df['text'].apply(clean_text)"
   ]
  },
  {
   "cell_type": "code",
   "execution_count": 13,
   "id": "44d0f260",
   "metadata": {},
   "outputs": [
    {
     "name": "stdout",
     "output_type": "stream",
     "text": [
      "politics\n",
      "parties warned grey vote political parties cannot afford take older uk voters granted coming election says age concern survey charity suggests 69 over55s say always vote general election compared 17 18 24 year olds charity boss gordon lishman said decisive blow struck election would older voters could relied turn total 3 028 adults aged 18 interviewed study mr lishman urged net government boost state pension also called measures combat ageism build effective public services support us ageing society older people want see manifesto commitments make difference lives mr lishman said political parties must wake fact unless address demands concerns older people keep attract vote survey carried icm research 14 people aged 18 34 said never voted general elections among over65s 70 said would certain vote immediate election compared 39 people 55 age concern says over55s united around key areas policy want government focus 57 pensions nhs key issues economy important third ta crucial area 25\n"
     ]
    }
   ],
   "source": [
    "getReviewFromIndex(1000)"
   ]
  },
  {
   "cell_type": "code",
   "execution_count": 14,
   "id": "890ca329",
   "metadata": {},
   "outputs": [
    {
     "name": "stdout",
     "output_type": "stream",
     "text": [
      "Found 32485 unique tokens.\n"
     ]
    }
   ],
   "source": [
    "max_words=50000\n",
    "max_text_len=200\n",
    "embedding_dim=100\n",
    "tokenizer = Tokenizer(num_words=max_words, filters='!\"#$%&()*+,-./:;<=>?@[\\]^_`{|}~', lower=True)\n",
    "tokenizer.fit_on_texts(df['text'].values)\n",
    "word_index = tokenizer.word_index\n",
    "print('Found %s unique tokens.' % len(word_index))"
   ]
  },
  {
   "cell_type": "code",
   "execution_count": 15,
   "id": "126e7405",
   "metadata": {},
   "outputs": [
    {
     "name": "stdout",
     "output_type": "stream",
     "text": [
      "Shape of data tensor is (2225, 200)\n"
     ]
    }
   ],
   "source": [
    "X = tokenizer.texts_to_sequences(df['text'].values)\n",
    "X = pad_sequences(X, maxlen=max_text_len)\n",
    "print('Shape of data tensor is', X.shape)"
   ]
  },
  {
   "cell_type": "code",
   "execution_count": null,
   "id": "c727cf84",
   "metadata": {},
   "outputs": [],
   "source": [
    "tokenizer.get_config()"
   ]
  },
  {
   "cell_type": "code",
   "execution_count": 26,
   "id": "a9aec66d",
   "metadata": {},
   "outputs": [
    {
     "name": "stdout",
     "output_type": "stream",
     "text": [
      "Shape of label tensor: (2225, 5)\n",
      "(2002, 200) (2002, 5)\n",
      "(223, 200) (223, 5)\n"
     ]
    }
   ],
   "source": [
    "Y = pd.get_dummies(df['category']).values\n",
    "print('Shape of label tensor:', Y.shape)\n",
    "#splitting data \n",
    "X_train, X_test, Y_train, Y_test = train_test_split(X,Y, test_size = 0.10, random_state = 42)\n",
    "print(X_train.shape,Y_train.shape)\n",
    "print(X_test.shape,Y_test.shape)\n",
    "\n"
   ]
  },
  {
   "cell_type": "code",
   "execution_count": 34,
   "id": "78319cbc",
   "metadata": {},
   "outputs": [
    {
     "name": "stdout",
     "output_type": "stream",
     "text": [
      "Model: \"sequential_3\"\n",
      "_________________________________________________________________\n",
      " Layer (type)                Output Shape              Param #   \n",
      "=================================================================\n",
      " embedding_3 (Embedding)     (None, 200, 100)          5000000   \n",
      "                                                                 \n",
      " spatial_dropout1d_3 (Spatia  (None, 200, 100)         0         \n",
      " lDropout1D)                                                     \n",
      "                                                                 \n",
      " lstm_3 (LSTM)               (None, 100)               80400     \n",
      "                                                                 \n",
      " dense_3 (Dense)             (None, 5)                 505       \n",
      "                                                                 \n",
      "=================================================================\n",
      "Total params: 5,080,905\n",
      "Trainable params: 5,080,905\n",
      "Non-trainable params: 0\n",
      "_________________________________________________________________\n",
      "None\n"
     ]
    }
   ],
   "source": [
    "model = Sequential()\n",
    "model.add(Embedding(max_words, embedding_dim, input_length=X.shape[1]))\n",
    "model.add(SpatialDropout1D(0.2))\n",
    "model.add(LSTM(100, dropout=0.2, recurrent_dropout=0.15))\n",
    "model.add(Dense(5, activation='sigmoid'))\n",
    "model.compile(loss='categorical_crossentropy', optimizer='adam', metrics=['accuracy'])\n",
    "print(model.summary())"
   ]
  },
  {
   "cell_type": "code",
   "execution_count": 35,
   "id": "5f5b41a8",
   "metadata": {},
   "outputs": [
    {
     "name": "stdout",
     "output_type": "stream",
     "text": [
      "Epoch 1/10\n",
      "15/15 [==============================] - 10s 588ms/step - loss: 1.6006 - accuracy: 0.2737 - val_loss: 1.5675 - val_accuracy: 0.3781\n",
      "Epoch 2/10\n",
      "15/15 [==============================] - 8s 564ms/step - loss: 1.3726 - accuracy: 0.4092 - val_loss: 1.1198 - val_accuracy: 0.4925\n",
      "Epoch 3/10\n",
      "15/15 [==============================] - 9s 593ms/step - loss: 0.9154 - accuracy: 0.6135 - val_loss: 0.8531 - val_accuracy: 0.6418\n",
      "Epoch 4/10\n",
      "15/15 [==============================] - 9s 616ms/step - loss: 0.7549 - accuracy: 0.6818 - val_loss: 0.7985 - val_accuracy: 0.6866\n",
      "Epoch 5/10\n",
      "15/15 [==============================] - 9s 632ms/step - loss: 0.6207 - accuracy: 0.7973 - val_loss: 0.7147 - val_accuracy: 0.8358\n",
      "Epoch 6/10\n",
      "15/15 [==============================] - 10s 655ms/step - loss: 0.4112 - accuracy: 0.8923 - val_loss: 0.3960 - val_accuracy: 0.9254\n",
      "Epoch 7/10\n",
      "15/15 [==============================] - 10s 679ms/step - loss: 0.1752 - accuracy: 0.9789 - val_loss: 0.2027 - val_accuracy: 0.9502\n",
      "Epoch 8/10\n",
      "15/15 [==============================] - 10s 654ms/step - loss: 0.1263 - accuracy: 0.9722 - val_loss: 0.2699 - val_accuracy: 0.9204\n",
      "Epoch 9/10\n",
      "15/15 [==============================] - 10s 685ms/step - loss: 0.0855 - accuracy: 0.9878 - val_loss: 0.2831 - val_accuracy: 0.9254\n",
      "Epoch 10/10\n",
      "15/15 [==============================] - 10s 644ms/step - loss: 0.0883 - accuracy: 0.9800 - val_loss: 0.2460 - val_accuracy: 0.9552\n"
     ]
    }
   ],
   "source": [
    "epochs=10 \n",
    "batch_size=128\n",
    "history = model.fit(X_train, Y_train, epochs=epochs, batch_size=batch_size,validation_split=0.1,callbacks=[EarlyStopping(monitor='accuracy', patience=3, min_delta=0.0001)])\n"
   ]
  },
  {
   "cell_type": "code",
   "execution_count": 37,
   "id": "f3f3b255",
   "metadata": {},
   "outputs": [
    {
     "name": "stdout",
     "output_type": "stream",
     "text": [
      "7/7 [==============================] - 0s 22ms/step - loss: 0.2273 - accuracy: 0.9417\n",
      "Test set\n",
      "  Loss: 0.227\n",
      "  Accuracy: 0.942\n"
     ]
    }
   ],
   "source": [
    "accr = model.evaluate(X_test,Y_test)\n",
    "print('Test set\\n  Loss: {:0.3f}\\n  Accuracy: {:0.3f}'.format(accr[0],accr[1]))"
   ]
  },
  {
   "cell_type": "code",
   "execution_count": null,
   "id": "9d3c6bd9",
   "metadata": {},
   "outputs": [],
   "source": []
  }
 ],
 "metadata": {
  "kernelspec": {
   "display_name": "Python 3 (ipykernel)",
   "language": "python",
   "name": "python3"
  },
  "language_info": {
   "codemirror_mode": {
    "name": "ipython",
    "version": 3
   },
   "file_extension": ".py",
   "mimetype": "text/x-python",
   "name": "python",
   "nbconvert_exporter": "python",
   "pygments_lexer": "ipython3",
   "version": "3.10.0"
  }
 },
 "nbformat": 4,
 "nbformat_minor": 5
}
