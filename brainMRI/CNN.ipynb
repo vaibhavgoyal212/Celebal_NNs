{
 "cells": [
  {
   "cell_type": "code",
   "execution_count": 3,
   "id": "5e4d3193",
   "metadata": {},
   "outputs": [],
   "source": [
    "import tensorflow as tf\n",
    "import numpy as np\n",
    "import os \n"
   ]
  },
  {
   "cell_type": "code",
   "execution_count": 4,
   "id": "07ee5b8f",
   "metadata": {},
   "outputs": [],
   "source": [
    "directory = os.path.join(os.getcwd(), \"Training\")\n",
    "test_directory = os.path.join(os.getcwd(), \"Testing\")\n",
    "img_size = 224\n",
    "batch = 64"
   ]
  },
  {
   "cell_type": "code",
   "execution_count": 18,
   "id": "128ae74b",
   "metadata": {},
   "outputs": [
    {
     "name": "stdout",
     "output_type": "stream",
     "text": [
      "Found 2585 images belonging to 4 classes.\n",
      "Found 38 images belonging to 4 classes.\n"
     ]
    }
   ],
   "source": [
    "train_datagen = tf.keras.preprocessing.image.ImageDataGenerator(\n",
    "    rescale = 1./255,\n",
    "    shear_range = 0.2,\n",
    "    zoom_range = 0.2,\n",
    "    horizontal_flip = True,\n",
    "    validation_split = 0.1)\n",
    "\n",
    "test_datagen = tf.keras.preprocessing.image.ImageDataGenerator(\n",
    "    rescale = 1./255,\n",
    "    validation_split = 0.1)\n",
    "\n",
    "train_datagen = train_datagen.flow_from_directory(\n",
    "    directory,\n",
    "    target_size = (img_size, img_size),\n",
    "    batch_size = batch,\n",
    "    subset = \"training\"\n",
    ")\n",
    "\n",
    "test_datagen = test_datagen.flow_from_directory(\n",
    "    test_directory,\n",
    "    target_size = (img_size, img_size),\n",
    "    batch_size = batch,\n",
    "    subset = \"validation\"\n",
    ")\n",
    "    "
   ]
  },
  {
   "cell_type": "code",
   "execution_count": 11,
   "id": "f02882b2",
   "metadata": {},
   "outputs": [],
   "source": [
    "nueral_net = tf.keras.Sequential()\n",
    "nueral_net.add(tf.keras.layers.Conv2D(filters=64,padding='same',strides=2,kernel_size=3,activation='relu',input_shape=(224,224,3)))\n",
    "nueral_net.add(tf.keras.layers.MaxPool2D(pool_size=2,strides=2))\n",
    "nueral_net.add(tf.keras.layers.Conv2D(filters=32,padding='same',strides=2,kernel_size=3,activation='relu'))\n",
    "nueral_net.add(tf.keras.layers.MaxPool2D(pool_size=2,strides=2))\n",
    "nueral_net.add(tf.keras.layers.Conv2D(filters=32,padding='same',strides=2,kernel_size=3,activation='relu'))\n",
    "nueral_net.add(tf.keras.layers.MaxPool2D(pool_size=2))\n",
    "nueral_net.add(tf.keras.layers.Flatten())\n",
    "nueral_net.add(tf.keras.layers.Dense(4,activation='softmax'))"
   ]
  },
  {
   "cell_type": "code",
   "execution_count": 12,
   "id": "044ac5d7",
   "metadata": {},
   "outputs": [],
   "source": [
    "nueral_net.compile(optimizer=tf.keras.optimizers.Adam(),loss='categorical_crossentropy',metrics=['accuracy'])"
   ]
  },
  {
   "cell_type": "code",
   "execution_count": 13,
   "id": "6e399d83",
   "metadata": {},
   "outputs": [],
   "source": [
    "accuracy = 0.85\n",
    "class myCallback(tf.keras.callbacks.Callback): \n",
    "    def on_epoch_end(self, epoch, logs={}): \n",
    "        if(logs.get('acc') is not None and logs.get('acc') > 0.85):   \n",
    "            print(\"Reached 85% accuracy\")   \n",
    "            self.model.stop_training = True\n",
    "callback = myCallback()"
   ]
  },
  {
   "cell_type": "code",
   "execution_count": 19,
   "id": "9e51358c",
   "metadata": {},
   "outputs": [
    {
     "name": "stdout",
     "output_type": "stream",
     "text": [
      "Epoch 1/20\n",
      "41/41 [==============================] - 28s 677ms/step - loss: 0.5003 - accuracy: 0.7992 - val_loss: 3.0208 - val_accuracy: 0.3158\n",
      "Epoch 2/20\n",
      "41/41 [==============================] - 28s 675ms/step - loss: 0.4994 - accuracy: 0.7934 - val_loss: 2.8316 - val_accuracy: 0.4211\n",
      "Epoch 3/20\n",
      "41/41 [==============================] - 28s 675ms/step - loss: 0.4712 - accuracy: 0.8116 - val_loss: 2.8557 - val_accuracy: 0.5000\n",
      "Epoch 4/20\n",
      "41/41 [==============================] - 28s 673ms/step - loss: 0.4425 - accuracy: 0.8248 - val_loss: 3.2026 - val_accuracy: 0.3947\n",
      "Epoch 5/20\n",
      "41/41 [==============================] - 28s 674ms/step - loss: 0.4234 - accuracy: 0.8398 - val_loss: 2.8860 - val_accuracy: 0.4211\n",
      "Epoch 6/20\n",
      "41/41 [==============================] - 28s 674ms/step - loss: 0.4018 - accuracy: 0.8445 - val_loss: 2.3442 - val_accuracy: 0.4737\n",
      "Epoch 7/20\n",
      "41/41 [==============================] - 28s 675ms/step - loss: 0.4513 - accuracy: 0.8244 - val_loss: 3.0531 - val_accuracy: 0.4211\n",
      "Epoch 8/20\n",
      "41/41 [==============================] - 28s 675ms/step - loss: 0.4048 - accuracy: 0.8429 - val_loss: 2.9680 - val_accuracy: 0.4211\n",
      "Epoch 9/20\n",
      "41/41 [==============================] - 28s 674ms/step - loss: 0.4102 - accuracy: 0.8387 - val_loss: 3.0161 - val_accuracy: 0.4474\n",
      "Epoch 10/20\n",
      "41/41 [==============================] - 28s 678ms/step - loss: 0.3911 - accuracy: 0.8460 - val_loss: 3.2977 - val_accuracy: 0.5000\n",
      "Epoch 11/20\n",
      "41/41 [==============================] - 28s 673ms/step - loss: 0.4349 - accuracy: 0.8279 - val_loss: 2.7880 - val_accuracy: 0.4474\n",
      "Epoch 12/20\n",
      "41/41 [==============================] - 28s 677ms/step - loss: 0.3844 - accuracy: 0.8549 - val_loss: 4.4472 - val_accuracy: 0.3947\n",
      "Epoch 13/20\n",
      "41/41 [==============================] - 28s 683ms/step - loss: 0.3834 - accuracy: 0.8584 - val_loss: 2.7253 - val_accuracy: 0.4737\n",
      "Epoch 14/20\n",
      "41/41 [==============================] - 28s 680ms/step - loss: 0.3540 - accuracy: 0.8677 - val_loss: 3.0961 - val_accuracy: 0.4211\n",
      "Epoch 15/20\n",
      "41/41 [==============================] - 28s 673ms/step - loss: 0.3392 - accuracy: 0.8735 - val_loss: 3.5877 - val_accuracy: 0.3158\n",
      "Epoch 16/20\n",
      "41/41 [==============================] - 28s 673ms/step - loss: 0.3510 - accuracy: 0.8673 - val_loss: 3.6116 - val_accuracy: 0.5000\n",
      "Epoch 17/20\n",
      "41/41 [==============================] - 28s 678ms/step - loss: 0.3532 - accuracy: 0.8712 - val_loss: 3.5535 - val_accuracy: 0.4211\n",
      "Epoch 18/20\n",
      "41/41 [==============================] - 28s 680ms/step - loss: 0.3296 - accuracy: 0.8789 - val_loss: 2.8182 - val_accuracy: 0.4474\n",
      "Epoch 19/20\n",
      "41/41 [==============================] - 28s 675ms/step - loss: 0.3215 - accuracy: 0.8739 - val_loss: 3.4626 - val_accuracy: 0.4211\n",
      "Epoch 20/20\n",
      "41/41 [==============================] - 28s 678ms/step - loss: 0.3247 - accuracy: 0.8832 - val_loss: 3.4505 - val_accuracy: 0.4211\n"
     ]
    },
    {
     "data": {
      "text/plain": [
       "<keras.callbacks.History at 0x2b64a2e2e00>"
      ]
     },
     "execution_count": 19,
     "metadata": {},
     "output_type": "execute_result"
    }
   ],
   "source": [
    "nueral_net.fit(train_datagen,epochs=20,validation_data=test_datagen, callbacks = [callback])"
   ]
  },
  {
   "cell_type": "code",
   "execution_count": 29,
   "id": "c247f06a",
   "metadata": {},
   "outputs": [],
   "source": [
    "from keras.preprocessing import image"
   ]
  },
  {
   "cell_type": "code",
   "execution_count": 81,
   "id": "8a04ad49",
   "metadata": {},
   "outputs": [],
   "source": [
    "path = os.path.join(directory, \"glioma_tumor\")\n",
    "img_path = os.path.join(path, \"gg (198).jpg\")"
   ]
  }
 ],
 "metadata": {
  "kernelspec": {
   "display_name": "Python 3 (ipykernel)",
   "language": "python",
   "name": "python3"
  },
  "language_info": {
   "codemirror_mode": {
    "name": "ipython",
    "version": 3
   },
   "file_extension": ".py",
   "mimetype": "text/x-python",
   "name": "python",
   "nbconvert_exporter": "python",
   "pygments_lexer": "ipython3",
   "version": "3.10.0"
  }
 },
 "nbformat": 4,
 "nbformat_minor": 5
}
