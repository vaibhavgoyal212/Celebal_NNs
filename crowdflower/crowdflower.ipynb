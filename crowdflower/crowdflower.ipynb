{
 "cells": [
  {
   "cell_type": "code",
   "execution_count": 23,
   "id": "2c18fd94",
   "metadata": {},
   "outputs": [],
   "source": [
    "import pandas as pd # data processing, CSV file I/O (e.g. pd.read_csv)\n",
    "import numpy as np # linear algebra\n",
    "import matplotlib \n",
    "import matplotlib.pyplot as plt\n",
    "import sklearn\n",
    "import re\n",
    "from sklearn.pipeline import Pipeline\n",
    "from sklearn.feature_extraction.text import TfidfVectorizer\n",
    "from sklearn.naive_bayes import MultinomialNB\n",
    "from nltk.stem import PorterStemmer\n",
    "from sklearn.decomposition import TruncatedSVD\n",
    "from sklearn.preprocessing import StandardScaler\n",
    "from sklearn.feature_extraction import text\n",
    "from sklearn.ensemble import RandomForestClassifier\n",
    "from sklearn.model_selection import GridSearchCV\n",
    "from sklearn.svm import SVC\n",
    "from bs4 import BeautifulSoup"
   ]
  },
  {
   "cell_type": "code",
   "execution_count": 24,
   "id": "e2be4961",
   "metadata": {},
   "outputs": [],
   "source": [
    "d_train=pd.read_csv(\"train.csv\")\n",
    "d_test = pd.read_csv(\"test.csv\")"
   ]
  },
  {
   "cell_type": "code",
   "execution_count": 40,
   "id": "b982b58a",
   "metadata": {},
   "outputs": [
    {
     "name": "stdout",
     "output_type": "stream",
     "text": [
      "<class 'pandas.core.frame.DataFrame'>\n",
      "RangeIndex: 10158 entries, 0 to 10157\n",
      "Data columns (total 6 columns):\n",
      " #   Column               Non-Null Count  Dtype  \n",
      "---  ------               --------------  -----  \n",
      " 0   id                   10158 non-null  int64  \n",
      " 1   query                10158 non-null  object \n",
      " 2   product_title        10158 non-null  object \n",
      " 3   product_description  7714 non-null   object \n",
      " 4   median_relevance     10158 non-null  int64  \n",
      " 5   relevance_variance   10158 non-null  float64\n",
      "dtypes: float64(1), int64(2), object(3)\n",
      "memory usage: 476.3+ KB\n"
     ]
    }
   ],
   "source": [
    "d_train.info()"
   ]
  },
  {
   "cell_type": "code",
   "execution_count": 42,
   "id": "27a81aba",
   "metadata": {},
   "outputs": [
    {
     "name": "stdout",
     "output_type": "stream",
     "text": [
      "<class 'pandas.core.frame.DataFrame'>\n",
      "RangeIndex: 10158 entries, 0 to 10157\n",
      "Data columns (total 6 columns):\n",
      " #   Column               Non-Null Count  Dtype  \n",
      "---  ------               --------------  -----  \n",
      " 0   id                   10158 non-null  int64  \n",
      " 1   query                10158 non-null  object \n",
      " 2   product_title        10158 non-null  object \n",
      " 3   product_description  10158 non-null  object \n",
      " 4   median_relevance     10158 non-null  int64  \n",
      " 5   relevance_variance   10158 non-null  float64\n",
      "dtypes: float64(1), int64(2), object(3)\n",
      "memory usage: 476.3+ KB\n"
     ]
    }
   ],
   "source": [
    "d_train.product_description.fillna('',inplace=True)\n",
    "d_train.info()"
   ]
  },
  {
   "cell_type": "code",
   "execution_count": 43,
   "id": "e7ff40cf",
   "metadata": {
    "scrolled": true
   },
   "outputs": [
    {
     "name": "stdout",
     "output_type": "stream",
     "text": [
      "<class 'pandas.core.frame.DataFrame'>\n",
      "RangeIndex: 22513 entries, 0 to 22512\n",
      "Data columns (total 4 columns):\n",
      " #   Column               Non-Null Count  Dtype \n",
      "---  ------               --------------  ----- \n",
      " 0   id                   22513 non-null  int64 \n",
      " 1   query                22513 non-null  object\n",
      " 2   product_title        22513 non-null  object\n",
      " 3   product_description  17086 non-null  object\n",
      "dtypes: int64(1), object(3)\n",
      "memory usage: 703.7+ KB\n"
     ]
    }
   ],
   "source": [
    "d_test.info()\n"
   ]
  },
  {
   "cell_type": "code",
   "execution_count": 44,
   "id": "1dfbaf72",
   "metadata": {},
   "outputs": [
    {
     "name": "stdout",
     "output_type": "stream",
     "text": [
      "<class 'pandas.core.frame.DataFrame'>\n",
      "RangeIndex: 10158 entries, 0 to 10157\n",
      "Data columns (total 6 columns):\n",
      " #   Column               Non-Null Count  Dtype  \n",
      "---  ------               --------------  -----  \n",
      " 0   id                   10158 non-null  int64  \n",
      " 1   query                10158 non-null  object \n",
      " 2   product_title        10158 non-null  object \n",
      " 3   product_description  10158 non-null  object \n",
      " 4   median_relevance     10158 non-null  int64  \n",
      " 5   relevance_variance   10158 non-null  float64\n",
      "dtypes: float64(1), int64(2), object(3)\n",
      "memory usage: 476.3+ KB\n"
     ]
    }
   ],
   "source": [
    "d_train.info()"
   ]
  },
  {
   "cell_type": "code",
   "execution_count": 20,
   "id": "e7bcbc85",
   "metadata": {},
   "outputs": [
    {
     "data": {
      "text/plain": [
       "<AxesSubplot:>"
      ]
     },
     "execution_count": 20,
     "metadata": {},
     "output_type": "execute_result"
    },
    {
     "data": {
      "image/png": "[encoded data removed]",
      "text/plain": [
       "<Figure size 432x288 with 1 Axes>"
      ]
     },
     "metadata": {
      "needs_background": "light"
     },
     "output_type": "display_data"
    }
   ],
   "source": [
    "d_train.median_relevance.hist()"
   ]
  },
  {
   "cell_type": "code",
   "execution_count": 21,
   "id": "075b3a16",
   "metadata": {},
   "outputs": [
    {
     "data": {
      "text/plain": [
       "<AxesSubplot:>"
      ]
     },
     "execution_count": 21,
     "metadata": {},
     "output_type": "execute_result"
    },
    {
     "data": {
      "image/png": "[encoded data removed]",
      "text/plain": [
       "<Figure size 432x288 with 1 Axes>"
      ]
     },
     "metadata": {
      "needs_background": "light"
     },
     "output_type": "display_data"
    }
   ],
   "source": [
    "d_train.relevance_variance.hist()\n"
   ]
  },
  {
   "cell_type": "code",
   "execution_count": 38,
   "id": "0dbf9ac5",
   "metadata": {},
   "outputs": [
    {
     "data": {
      "image/png": "[encoded data removed]",
      "text/plain": [
       "<Figure size 1800x720 with 2 Axes>"
      ]
     },
     "metadata": {
      "needs_background": "light"
     },
     "output_type": "display_data"
    }
   ],
   "source": [
    "#checking for missing values in dataset \n",
    "import missingno \n",
    "\n",
    "ax=missingno.matrix(d_train)"
   ]
  },
  {
   "cell_type": "code",
   "execution_count": 52,
   "id": "dd3ba670",
   "metadata": {},
   "outputs": [
    {
     "data": {
      "text/html": [
       "<div>\n",
       "<style scoped>\n",
       "    .dataframe tbody tr th:only-of-type {\n",
       "        vertical-align: middle;\n",
       "    }\n",
       "\n",
       "    .dataframe tbody tr th {\n",
       "        vertical-align: top;\n",
       "    }\n",
       "\n",
       "    .dataframe thead th {\n",
       "        text-align: right;\n",
       "    }\n",
       "</style>\n",
       "<table border=\"1\" class=\"dataframe\">\n",
       "  <thead>\n",
       "    <tr style=\"text-align: right;\">\n",
       "      <th></th>\n",
       "      <th>id</th>\n",
       "      <th>query</th>\n",
       "      <th>product_title</th>\n",
       "      <th>product_description</th>\n",
       "      <th>median_relevance</th>\n",
       "      <th>relevance_variance</th>\n",
       "    </tr>\n",
       "  </thead>\n",
       "  <tbody>\n",
       "    <tr>\n",
       "      <th>0</th>\n",
       "      <td>1</td>\n",
       "      <td>bridal shower decorations</td>\n",
       "      <td>Accent Pillow with Heart Design - Red/Black</td>\n",
       "      <td>Red satin accent pillow embroidered with a hea...</td>\n",
       "      <td>1</td>\n",
       "      <td>0.000</td>\n",
       "    </tr>\n",
       "    <tr>\n",
       "      <th>1</th>\n",
       "      <td>2</td>\n",
       "      <td>led christmas lights</td>\n",
       "      <td>Set of 10 Battery Operated Multi LED Train Chr...</td>\n",
       "      <td>Set of 10 Battery Operated Train Christmas Lig...</td>\n",
       "      <td>4</td>\n",
       "      <td>0.000</td>\n",
       "    </tr>\n",
       "    <tr>\n",
       "      <th>2</th>\n",
       "      <td>4</td>\n",
       "      <td>projector</td>\n",
       "      <td>ViewSonic Pro8200 DLP Multimedia Projector</td>\n",
       "      <td></td>\n",
       "      <td>4</td>\n",
       "      <td>0.471</td>\n",
       "    </tr>\n",
       "    <tr>\n",
       "      <th>3</th>\n",
       "      <td>5</td>\n",
       "      <td>wine rack</td>\n",
       "      <td>Concept Housewares WR-44526 Solid-Wood Ceiling...</td>\n",
       "      <td>Like a silent and sturdy tree, the Southern En...</td>\n",
       "      <td>4</td>\n",
       "      <td>0.000</td>\n",
       "    </tr>\n",
       "    <tr>\n",
       "      <th>4</th>\n",
       "      <td>7</td>\n",
       "      <td>light bulb</td>\n",
       "      <td>Wintergreen Lighting Christmas LED Light Bulb ...</td>\n",
       "      <td>WTGR1011\\nFeatures\\nNickel base, 60,000 averag...</td>\n",
       "      <td>2</td>\n",
       "      <td>0.471</td>\n",
       "    </tr>\n",
       "    <tr>\n",
       "      <th>5</th>\n",
       "      <td>8</td>\n",
       "      <td>oakley polarized radar</td>\n",
       "      <td>Oakley Sunglasses - Radar Path Polished Black/...</td>\n",
       "      <td>Durability and all-day comfort of lightweight,...</td>\n",
       "      <td>3</td>\n",
       "      <td>1.166</td>\n",
       "    </tr>\n",
       "    <tr>\n",
       "      <th>6</th>\n",
       "      <td>10</td>\n",
       "      <td>boyfriend jeans</td>\n",
       "      <td>How To Make An American Quilt (DVD)</td>\n",
       "      <td>ITEM#: 2518897\\nDirector Jocelyn Moorhouse's f...</td>\n",
       "      <td>1</td>\n",
       "      <td>0.000</td>\n",
       "    </tr>\n",
       "    <tr>\n",
       "      <th>7</th>\n",
       "      <td>13</td>\n",
       "      <td>screen protector samsung</td>\n",
       "      <td>ZAGG InvisibleShield Cell Phone Screen Protect...</td>\n",
       "      <td>Protect your most precious technology with the...</td>\n",
       "      <td>4</td>\n",
       "      <td>0.000</td>\n",
       "    </tr>\n",
       "    <tr>\n",
       "      <th>8</th>\n",
       "      <td>17</td>\n",
       "      <td>pots and pans set</td>\n",
       "      <td>Cook N Home Stainless Steel 4-Piece Pasta Cook...</td>\n",
       "      <td>This ultimate pasta and vegetable steamer cook...</td>\n",
       "      <td>2</td>\n",
       "      <td>0.632</td>\n",
       "    </tr>\n",
       "    <tr>\n",
       "      <th>9</th>\n",
       "      <td>20</td>\n",
       "      <td>waffle maker</td>\n",
       "      <td>Presto FlipSide Electric Waffle Maker- 03510</td>\n",
       "      <td>Please the waffle lover in your family with th...</td>\n",
       "      <td>4</td>\n",
       "      <td>0.471</td>\n",
       "    </tr>\n",
       "    <tr>\n",
       "      <th>10</th>\n",
       "      <td>28</td>\n",
       "      <td>oakley radar</td>\n",
       "      <td>Oakley Radar Pitch Replacement Lens Gray, One ...</td>\n",
       "      <td>If you own the most technologically advanced p...</td>\n",
       "      <td>3</td>\n",
       "      <td>0.471</td>\n",
       "    </tr>\n",
       "    <tr>\n",
       "      <th>11</th>\n",
       "      <td>31</td>\n",
       "      <td>workout clothes for women</td>\n",
       "      <td>Plus Size Peyton Tank - Tulah</td>\n",
       "      <td></td>\n",
       "      <td>3</td>\n",
       "      <td>0.000</td>\n",
       "    </tr>\n",
       "    <tr>\n",
       "      <th>12</th>\n",
       "      <td>32</td>\n",
       "      <td>decorative pillows</td>\n",
       "      <td>Surya Ruffle Circle Decorative Pillows Gray 18...</td>\n",
       "      <td>Stylish yet simple, this Surya toss pillow wil...</td>\n",
       "      <td>4</td>\n",
       "      <td>0.943</td>\n",
       "    </tr>\n",
       "    <tr>\n",
       "      <th>13</th>\n",
       "      <td>35</td>\n",
       "      <td>wall clocks</td>\n",
       "      <td>Lorell Round ProFile Radio Controlled Wall Clock</td>\n",
       "      <td>Lorell Round Profile Radio Controlled Wall Clo...</td>\n",
       "      <td>4</td>\n",
       "      <td>0.000</td>\n",
       "    </tr>\n",
       "    <tr>\n",
       "      <th>14</th>\n",
       "      <td>46</td>\n",
       "      <td>cuisinart coffee maker</td>\n",
       "      <td>Cuisinart DCC-3200 PerfecTemp 14-Cup Programma...</td>\n",
       "      <td>The Cuisinart 14-Cup Programmable Coffeemaker ...</td>\n",
       "      <td>4</td>\n",
       "      <td>0.000</td>\n",
       "    </tr>\n",
       "  </tbody>\n",
       "</table>\n",
       "</div>"
      ],
      "text/plain": [
       "    id                      query  \\\n",
       "0    1  bridal shower decorations   \n",
       "1    2       led christmas lights   \n",
       "2    4                  projector   \n",
       "3    5                  wine rack   \n",
       "4    7                 light bulb   \n",
       "5    8     oakley polarized radar   \n",
       "6   10            boyfriend jeans   \n",
       "7   13   screen protector samsung   \n",
       "8   17          pots and pans set   \n",
       "9   20               waffle maker   \n",
       "10  28               oakley radar   \n",
       "11  31  workout clothes for women   \n",
       "12  32         decorative pillows   \n",
       "13  35                wall clocks   \n",
       "14  46     cuisinart coffee maker   \n",
       "\n",
       "                                        product_title  \\\n",
       "0         Accent Pillow with Heart Design - Red/Black   \n",
       "1   Set of 10 Battery Operated Multi LED Train Chr...   \n",
       "2          ViewSonic Pro8200 DLP Multimedia Projector   \n",
       "3   Concept Housewares WR-44526 Solid-Wood Ceiling...   \n",
       "4   Wintergreen Lighting Christmas LED Light Bulb ...   \n",
       "5   Oakley Sunglasses - Radar Path Polished Black/...   \n",
       "6                 How To Make An American Quilt (DVD)   \n",
       "7   ZAGG InvisibleShield Cell Phone Screen Protect...   \n",
       "8   Cook N Home Stainless Steel 4-Piece Pasta Cook...   \n",
       "9        Presto FlipSide Electric Waffle Maker- 03510   \n",
       "10  Oakley Radar Pitch Replacement Lens Gray, One ...   \n",
       "11                      Plus Size Peyton Tank - Tulah   \n",
       "12  Surya Ruffle Circle Decorative Pillows Gray 18...   \n",
       "13   Lorell Round ProFile Radio Controlled Wall Clock   \n",
       "14  Cuisinart DCC-3200 PerfecTemp 14-Cup Programma...   \n",
       "\n",
       "                                  product_description  median_relevance  \\\n",
       "0   Red satin accent pillow embroidered with a hea...                 1   \n",
       "1   Set of 10 Battery Operated Train Christmas Lig...                 4   \n",
       "2                                                                     4   \n",
       "3   Like a silent and sturdy tree, the Southern En...                 4   \n",
       "4   WTGR1011\\nFeatures\\nNickel base, 60,000 averag...                 2   \n",
       "5   Durability and all-day comfort of lightweight,...                 3   \n",
       "6   ITEM#: 2518897\\nDirector Jocelyn Moorhouse's f...                 1   \n",
       "7   Protect your most precious technology with the...                 4   \n",
       "8   This ultimate pasta and vegetable steamer cook...                 2   \n",
       "9   Please the waffle lover in your family with th...                 4   \n",
       "10  If you own the most technologically advanced p...                 3   \n",
       "11                                                                    3   \n",
       "12  Stylish yet simple, this Surya toss pillow wil...                 4   \n",
       "13  Lorell Round Profile Radio Controlled Wall Clo...                 4   \n",
       "14  The Cuisinart 14-Cup Programmable Coffeemaker ...                 4   \n",
       "\n",
       "    relevance_variance  \n",
       "0                0.000  \n",
       "1                0.000  \n",
       "2                0.471  \n",
       "3                0.000  \n",
       "4                0.471  \n",
       "5                1.166  \n",
       "6                0.000  \n",
       "7                0.000  \n",
       "8                0.632  \n",
       "9                0.471  \n",
       "10               0.471  \n",
       "11               0.000  \n",
       "12               0.943  \n",
       "13               0.000  \n",
       "14               0.000  "
      ]
     },
     "execution_count": 52,
     "metadata": {},
     "output_type": "execute_result"
    }
   ],
   "source": [
    "d_train.head(15)"
   ]
  },
  {
   "cell_type": "code",
   "execution_count": 64,
   "id": "6079a4cc",
   "metadata": {},
   "outputs": [],
   "source": [
    "stemmer = PorterStemmer()\n",
    "sw=[]\n",
    "ML_STOP_WORDS = ['http','www','img','border','color','style','padding','table','font','inch','width','height']\n",
    "ML_STOP_WORDS += list(text.ENGLISH_STOP_WORDS)\n",
    "for stw in ML_STOP_WORDS:\n",
    "    sw.append(\"z\"+str(stw))\n",
    "ML_STOP_WORDS += sw\n",
    "for i in range(len(ML_STOP_WORDS)):\n",
    "    ML_STOP_WORDS[i]=stemmer.stem(ML_STOP_WORDS[i])\n",
    "\n",
    "def clean(f3):\n",
    "    f2=\"\"\n",
    "    if len(f2)<3:\n",
    "        f2=\"feature2null\"\n",
    "    if len(f3)<3:\n",
    "        f3=\"feature3null\"\n",
    "    tx = BeautifulSoup(f3)\n",
    "    tx1 = [x.extract() for x in tx.findAll('script')]\n",
    "    tx = tx.get_text(\" \").strip()\n",
    "    s = (\" \").join([\"z\"+ str(z) for z in f2.split(\" \")]) + \" \" + tx\n",
    "    s = re.sub(\"[^a-zA-Z0-9]\",\" \", s)\n",
    "    s = re.sub(\"[0-9]{1,3}px\",\" \", s)\n",
    "    s = re.sub(\" [0-9]{1,6} |000\",\" \", s)\n",
    "    s = (\" \").join([stemmer.stem(z) for z in s.split(\" \") if len(z)>2])\n",
    "    s = s.lower()\n",
    "    return s\n",
    "\n",
    "\n",
    "\n",
    "idx = d_test.id.values.astype(int)\n",
    "\n",
    "d_train.drop('id',axis=1)\n",
    "d_test.drop('id',axis=1)\n",
    "\n",
    "y = d_train.median_relevance.values\n",
    "\n",
    "d_train2 = d_train.copy()\n",
    "d_train.drop(['median_relevance','relevance_variance'],axis=1)\n",
    "\n",
    "traindata = np.array(d_train.apply(lambda x:'%s %s %s' % (x['query'],x['product_title'],x['product_description']),axis=1))\n",
    "testdata = np.array(d_test.apply(lambda x:'%s %s %s' % (x['query'],x['product_title'],x['product_description']),axis=1))\n",
    "\n",
    "for i in range(len(traindata)):\n",
    "    traindata[i]=clean(traindata[i])\n",
    "for i in range(len(testdata)):\n",
    "    testdata[i]=clean(testdata[i])\n",
    "\n",
    "\n",
    "tsvd = TruncatedSVD(n_components=200, algorithm='randomized', n_iter=5, random_state=None, tol=0.0)\n",
    "scaler = StandardScaler()\n",
    "tfidf = TfidfVectorizer(max_features=2500,min_df=0.0,max_df=0.4,stop_words=ML_STOP_WORDS,ngram_range=(1,3),use_idf=True,smooth_idf=True,sublinear_tf=True,analyzer='word')\n",
    "classifier = SVC(C=10.0, kernel='rbf', degree=3, gamma=0.001, coef0=0.0, shrinking=True, probability=False, tol=0.001, cache_size=200, class_weight=None, verbose=False, max_iter=-1, random_state=None)\n",
    "parameters = { 'class__n_estimators': (10,50,100) }\n",
    "pipe = Pipeline([('tfidf',tfidf),\n",
    "                 ('tsvd',tsvd),\n",
    "                 ('scl',scaler),\n",
    "                 ('class',classifier)])\n",
    "#grid_search = GridSearchCV(pipe,parameters)\n",
    "pipe.fit(traindata,y)\n",
    "predicted = pipe.predict(testdata) #pipe.predict(testdata)\n",
    "\n",
    "df_res = pd.DataFrame()\n",
    "df_res['id']=idx\n",
    "df_res['prediction']=predicted\n",
    "\n",
    "\n",
    "\n"
   ]
  },
  {
   "cell_type": "code",
   "execution_count": 60,
   "id": "3e4670c9",
   "metadata": {},
   "outputs": [
    {
     "data": {
      "text/plain": [
       "4    19944\n",
       "2     1157\n",
       "1      840\n",
       "3      572\n",
       "Name: prediction, dtype: int64"
      ]
     },
     "execution_count": 60,
     "metadata": {},
     "output_type": "execute_result"
    }
   ],
   "source": [
    "df_res['prediction'].value_counts()"
   ]
  },
  {
   "cell_type": "code",
   "execution_count": 61,
   "id": "afc5e93b",
   "metadata": {},
   "outputs": [
    {
     "name": "stdout",
     "output_type": "stream",
     "text": [
      "the accuracy of the model trained is: 88.58881535113046 %\n"
     ]
    }
   ],
   "source": [
    "accuracy = int(df_res.prediction[df_res.prediction==4].value_counts()) * 100 / len(df_res.prediction) \n",
    "accuracy\n",
    "\n",
    "print('the accuracy of the model trained is:' , accuracy , '%')"
   ]
  },
  {
   "cell_type": "code",
   "execution_count": 62,
   "id": "94a2d282",
   "metadata": {},
   "outputs": [
    {
     "data": {
      "text/plain": [
       "22513"
      ]
     },
     "execution_count": 62,
     "metadata": {},
     "output_type": "execute_result"
    }
   ],
   "source": [
    "len(d_test)"
   ]
  },
  {
   "cell_type": "code",
   "execution_count": 63,
   "id": "5cc91965",
   "metadata": {},
   "outputs": [
    {
     "data": {
      "text/plain": [
       "22513"
      ]
     },
     "execution_count": 63,
     "metadata": {},
     "output_type": "execute_result"
    }
   ],
   "source": [
    "len(df_res)"
   ]
  },
  {
   "cell_type": "code",
   "execution_count": 65,
   "id": "4ecdd407",
   "metadata": {},
   "outputs": [],
   "source": [
    "d_test_new = d_test.copy()"
   ]
  },
  {
   "cell_type": "code",
   "execution_count": 66,
   "id": "f9b1ae86",
   "metadata": {},
   "outputs": [
    {
     "data": {
      "text/html": [
       "<div>\n",
       "<style scoped>\n",
       "    .dataframe tbody tr th:only-of-type {\n",
       "        vertical-align: middle;\n",
       "    }\n",
       "\n",
       "    .dataframe tbody tr th {\n",
       "        vertical-align: top;\n",
       "    }\n",
       "\n",
       "    .dataframe thead th {\n",
       "        text-align: right;\n",
       "    }\n",
       "</style>\n",
       "<table border=\"1\" class=\"dataframe\">\n",
       "  <thead>\n",
       "    <tr style=\"text-align: right;\">\n",
       "      <th></th>\n",
       "      <th>id</th>\n",
       "      <th>query</th>\n",
       "      <th>product_title</th>\n",
       "      <th>product_description</th>\n",
       "    </tr>\n",
       "  </thead>\n",
       "  <tbody>\n",
       "    <tr>\n",
       "      <th>0</th>\n",
       "      <td>3</td>\n",
       "      <td>electric griddle</td>\n",
       "      <td>Star-Max 48 in Electric Griddle</td>\n",
       "      <td>NaN</td>\n",
       "    </tr>\n",
       "    <tr>\n",
       "      <th>1</th>\n",
       "      <td>6</td>\n",
       "      <td>phillips coffee maker</td>\n",
       "      <td>Philips SENSEO HD7810 WHITE Single Serve Pod C...</td>\n",
       "      <td>NaN</td>\n",
       "    </tr>\n",
       "    <tr>\n",
       "      <th>2</th>\n",
       "      <td>9</td>\n",
       "      <td>san francisco 49ers</td>\n",
       "      <td>2013 San Francisco 49ers Clock</td>\n",
       "      <td>A 2013 San Francisco 49ers clock is the ultima...</td>\n",
       "    </tr>\n",
       "    <tr>\n",
       "      <th>3</th>\n",
       "      <td>11</td>\n",
       "      <td>aveeno shampoo</td>\n",
       "      <td>AVEENO       10.5FLOZ NRSH SHINE SH</td>\n",
       "      <td>Water, Ammonium Lauryl Sulfate, Dimethicone, S...</td>\n",
       "    </tr>\n",
       "    <tr>\n",
       "      <th>4</th>\n",
       "      <td>12</td>\n",
       "      <td>flea and tick control for dogs</td>\n",
       "      <td>Merial Frontline Plus Flea and Tick Control fo...</td>\n",
       "      <td>NaN</td>\n",
       "    </tr>\n",
       "  </tbody>\n",
       "</table>\n",
       "</div>"
      ],
      "text/plain": [
       "   id                           query  \\\n",
       "0   3                electric griddle   \n",
       "1   6           phillips coffee maker   \n",
       "2   9             san francisco 49ers   \n",
       "3  11                  aveeno shampoo   \n",
       "4  12  flea and tick control for dogs   \n",
       "\n",
       "                                       product_title  \\\n",
       "0                    Star-Max 48 in Electric Griddle   \n",
       "1  Philips SENSEO HD7810 WHITE Single Serve Pod C...   \n",
       "2                     2013 San Francisco 49ers Clock   \n",
       "3                AVEENO       10.5FLOZ NRSH SHINE SH   \n",
       "4  Merial Frontline Plus Flea and Tick Control fo...   \n",
       "\n",
       "                                 product_description  \n",
       "0                                                NaN  \n",
       "1                                                NaN  \n",
       "2  A 2013 San Francisco 49ers clock is the ultima...  \n",
       "3  Water, Ammonium Lauryl Sulfate, Dimethicone, S...  \n",
       "4                                                NaN  "
      ]
     },
     "execution_count": 66,
     "metadata": {},
     "output_type": "execute_result"
    }
   ],
   "source": [
    "d_test_new.head()"
   ]
  },
  {
   "cell_type": "code",
   "execution_count": 67,
   "id": "e3ef07cd",
   "metadata": {},
   "outputs": [
    {
     "data": {
      "text/html": [
       "<div>\n",
       "<style scoped>\n",
       "    .dataframe tbody tr th:only-of-type {\n",
       "        vertical-align: middle;\n",
       "    }\n",
       "\n",
       "    .dataframe tbody tr th {\n",
       "        vertical-align: top;\n",
       "    }\n",
       "\n",
       "    .dataframe thead th {\n",
       "        text-align: right;\n",
       "    }\n",
       "</style>\n",
       "<table border=\"1\" class=\"dataframe\">\n",
       "  <thead>\n",
       "    <tr style=\"text-align: right;\">\n",
       "      <th></th>\n",
       "      <th>id</th>\n",
       "      <th>query</th>\n",
       "      <th>product_title</th>\n",
       "      <th>product_description</th>\n",
       "    </tr>\n",
       "  </thead>\n",
       "  <tbody>\n",
       "    <tr>\n",
       "      <th>0</th>\n",
       "      <td>3</td>\n",
       "      <td>electric griddle</td>\n",
       "      <td>Star-Max 48 in Electric Griddle</td>\n",
       "      <td>NaN</td>\n",
       "    </tr>\n",
       "    <tr>\n",
       "      <th>1</th>\n",
       "      <td>6</td>\n",
       "      <td>phillips coffee maker</td>\n",
       "      <td>Philips SENSEO HD7810 WHITE Single Serve Pod C...</td>\n",
       "      <td>NaN</td>\n",
       "    </tr>\n",
       "    <tr>\n",
       "      <th>2</th>\n",
       "      <td>9</td>\n",
       "      <td>san francisco 49ers</td>\n",
       "      <td>2013 San Francisco 49ers Clock</td>\n",
       "      <td>A 2013 San Francisco 49ers clock is the ultima...</td>\n",
       "    </tr>\n",
       "    <tr>\n",
       "      <th>3</th>\n",
       "      <td>11</td>\n",
       "      <td>aveeno shampoo</td>\n",
       "      <td>AVEENO       10.5FLOZ NRSH SHINE SH</td>\n",
       "      <td>Water, Ammonium Lauryl Sulfate, Dimethicone, S...</td>\n",
       "    </tr>\n",
       "    <tr>\n",
       "      <th>4</th>\n",
       "      <td>12</td>\n",
       "      <td>flea and tick control for dogs</td>\n",
       "      <td>Merial Frontline Plus Flea and Tick Control fo...</td>\n",
       "      <td>NaN</td>\n",
       "    </tr>\n",
       "  </tbody>\n",
       "</table>\n",
       "</div>"
      ],
      "text/plain": [
       "   id                           query  \\\n",
       "0   3                electric griddle   \n",
       "1   6           phillips coffee maker   \n",
       "2   9             san francisco 49ers   \n",
       "3  11                  aveeno shampoo   \n",
       "4  12  flea and tick control for dogs   \n",
       "\n",
       "                                       product_title  \\\n",
       "0                    Star-Max 48 in Electric Griddle   \n",
       "1  Philips SENSEO HD7810 WHITE Single Serve Pod C...   \n",
       "2                     2013 San Francisco 49ers Clock   \n",
       "3                AVEENO       10.5FLOZ NRSH SHINE SH   \n",
       "4  Merial Frontline Plus Flea and Tick Control fo...   \n",
       "\n",
       "                                 product_description  \n",
       "0                                                NaN  \n",
       "1                                                NaN  \n",
       "2  A 2013 San Francisco 49ers clock is the ultima...  \n",
       "3  Water, Ammonium Lauryl Sulfate, Dimethicone, S...  \n",
       "4                                                NaN  "
      ]
     },
     "execution_count": 67,
     "metadata": {},
     "output_type": "execute_result"
    }
   ],
   "source": [
    "d_test.head()"
   ]
  },
  {
   "cell_type": "code",
   "execution_count": 68,
   "id": "cc4183bb",
   "metadata": {},
   "outputs": [
    {
     "data": {
      "text/html": [
       "<div>\n",
       "<style scoped>\n",
       "    .dataframe tbody tr th:only-of-type {\n",
       "        vertical-align: middle;\n",
       "    }\n",
       "\n",
       "    .dataframe tbody tr th {\n",
       "        vertical-align: top;\n",
       "    }\n",
       "\n",
       "    .dataframe thead th {\n",
       "        text-align: right;\n",
       "    }\n",
       "</style>\n",
       "<table border=\"1\" class=\"dataframe\">\n",
       "  <thead>\n",
       "    <tr style=\"text-align: right;\">\n",
       "      <th></th>\n",
       "      <th>id</th>\n",
       "      <th>prediction</th>\n",
       "    </tr>\n",
       "  </thead>\n",
       "  <tbody>\n",
       "    <tr>\n",
       "      <th>0</th>\n",
       "      <td>3</td>\n",
       "      <td>4</td>\n",
       "    </tr>\n",
       "    <tr>\n",
       "      <th>1</th>\n",
       "      <td>6</td>\n",
       "      <td>4</td>\n",
       "    </tr>\n",
       "    <tr>\n",
       "      <th>2</th>\n",
       "      <td>9</td>\n",
       "      <td>3</td>\n",
       "    </tr>\n",
       "    <tr>\n",
       "      <th>3</th>\n",
       "      <td>11</td>\n",
       "      <td>4</td>\n",
       "    </tr>\n",
       "    <tr>\n",
       "      <th>4</th>\n",
       "      <td>12</td>\n",
       "      <td>4</td>\n",
       "    </tr>\n",
       "  </tbody>\n",
       "</table>\n",
       "</div>"
      ],
      "text/plain": [
       "   id  prediction\n",
       "0   3           4\n",
       "1   6           4\n",
       "2   9           3\n",
       "3  11           4\n",
       "4  12           4"
      ]
     },
     "execution_count": 68,
     "metadata": {},
     "output_type": "execute_result"
    }
   ],
   "source": [
    "df_res.head()"
   ]
  },
  {
   "cell_type": "code",
   "execution_count": 69,
   "id": "1b0b09b2",
   "metadata": {},
   "outputs": [],
   "source": [
    "d_test_new['median_relevance'] = df_res['prediction']"
   ]
  },
  {
   "cell_type": "code",
   "execution_count": 70,
   "id": "08032e42",
   "metadata": {},
   "outputs": [
    {
     "data": {
      "text/html": [
       "<div>\n",
       "<style scoped>\n",
       "    .dataframe tbody tr th:only-of-type {\n",
       "        vertical-align: middle;\n",
       "    }\n",
       "\n",
       "    .dataframe tbody tr th {\n",
       "        vertical-align: top;\n",
       "    }\n",
       "\n",
       "    .dataframe thead th {\n",
       "        text-align: right;\n",
       "    }\n",
       "</style>\n",
       "<table border=\"1\" class=\"dataframe\">\n",
       "  <thead>\n",
       "    <tr style=\"text-align: right;\">\n",
       "      <th></th>\n",
       "      <th>id</th>\n",
       "      <th>query</th>\n",
       "      <th>product_title</th>\n",
       "      <th>product_description</th>\n",
       "      <th>median_relevance</th>\n",
       "    </tr>\n",
       "  </thead>\n",
       "  <tbody>\n",
       "    <tr>\n",
       "      <th>0</th>\n",
       "      <td>3</td>\n",
       "      <td>electric griddle</td>\n",
       "      <td>Star-Max 48 in Electric Griddle</td>\n",
       "      <td>NaN</td>\n",
       "      <td>4</td>\n",
       "    </tr>\n",
       "    <tr>\n",
       "      <th>1</th>\n",
       "      <td>6</td>\n",
       "      <td>phillips coffee maker</td>\n",
       "      <td>Philips SENSEO HD7810 WHITE Single Serve Pod C...</td>\n",
       "      <td>NaN</td>\n",
       "      <td>4</td>\n",
       "    </tr>\n",
       "    <tr>\n",
       "      <th>2</th>\n",
       "      <td>9</td>\n",
       "      <td>san francisco 49ers</td>\n",
       "      <td>2013 San Francisco 49ers Clock</td>\n",
       "      <td>A 2013 San Francisco 49ers clock is the ultima...</td>\n",
       "      <td>3</td>\n",
       "    </tr>\n",
       "    <tr>\n",
       "      <th>3</th>\n",
       "      <td>11</td>\n",
       "      <td>aveeno shampoo</td>\n",
       "      <td>AVEENO       10.5FLOZ NRSH SHINE SH</td>\n",
       "      <td>Water, Ammonium Lauryl Sulfate, Dimethicone, S...</td>\n",
       "      <td>4</td>\n",
       "    </tr>\n",
       "    <tr>\n",
       "      <th>4</th>\n",
       "      <td>12</td>\n",
       "      <td>flea and tick control for dogs</td>\n",
       "      <td>Merial Frontline Plus Flea and Tick Control fo...</td>\n",
       "      <td>NaN</td>\n",
       "      <td>4</td>\n",
       "    </tr>\n",
       "  </tbody>\n",
       "</table>\n",
       "</div>"
      ],
      "text/plain": [
       "   id                           query  \\\n",
       "0   3                electric griddle   \n",
       "1   6           phillips coffee maker   \n",
       "2   9             san francisco 49ers   \n",
       "3  11                  aveeno shampoo   \n",
       "4  12  flea and tick control for dogs   \n",
       "\n",
       "                                       product_title  \\\n",
       "0                    Star-Max 48 in Electric Griddle   \n",
       "1  Philips SENSEO HD7810 WHITE Single Serve Pod C...   \n",
       "2                     2013 San Francisco 49ers Clock   \n",
       "3                AVEENO       10.5FLOZ NRSH SHINE SH   \n",
       "4  Merial Frontline Plus Flea and Tick Control fo...   \n",
       "\n",
       "                                 product_description  median_relevance  \n",
       "0                                                NaN                 4  \n",
       "1                                                NaN                 4  \n",
       "2  A 2013 San Francisco 49ers clock is the ultima...                 3  \n",
       "3  Water, Ammonium Lauryl Sulfate, Dimethicone, S...                 4  \n",
       "4                                                NaN                 4  "
      ]
     },
     "execution_count": 70,
     "metadata": {},
     "output_type": "execute_result"
    }
   ],
   "source": [
    "d_test_new.head()"
   ]
  },
  {
   "cell_type": "code",
   "execution_count": 81,
   "id": "e1d972d7",
   "metadata": {},
   "outputs": [],
   "source": [
    "d_train2=d_train2.drop(['relevance_variance' ], axis=1)"
   ]
  },
  {
   "cell_type": "code",
   "execution_count": 82,
   "id": "da939c6f",
   "metadata": {},
   "outputs": [
    {
     "name": "stdout",
     "output_type": "stream",
     "text": [
      "(32671, 5)\n"
     ]
    }
   ],
   "source": [
    "combined_df = pd.concat([d_train2, d_test_new], axis=0)\n",
    "combined_df = combined_df.drop_duplicates('id')\n",
    "print(combined_df.shape)"
   ]
  },
  {
   "cell_type": "code",
   "execution_count": 83,
   "id": "91a4b624",
   "metadata": {},
   "outputs": [
    {
     "data": {
      "text/html": [
       "<div>\n",
       "<style scoped>\n",
       "    .dataframe tbody tr th:only-of-type {\n",
       "        vertical-align: middle;\n",
       "    }\n",
       "\n",
       "    .dataframe tbody tr th {\n",
       "        vertical-align: top;\n",
       "    }\n",
       "\n",
       "    .dataframe thead th {\n",
       "        text-align: right;\n",
       "    }\n",
       "</style>\n",
       "<table border=\"1\" class=\"dataframe\">\n",
       "  <thead>\n",
       "    <tr style=\"text-align: right;\">\n",
       "      <th></th>\n",
       "      <th>id</th>\n",
       "      <th>query</th>\n",
       "      <th>product_title</th>\n",
       "      <th>product_description</th>\n",
       "      <th>median_relevance</th>\n",
       "    </tr>\n",
       "  </thead>\n",
       "  <tbody>\n",
       "    <tr>\n",
       "      <th>0</th>\n",
       "      <td>1</td>\n",
       "      <td>bridal shower decorations</td>\n",
       "      <td>Accent Pillow with Heart Design - Red/Black</td>\n",
       "      <td>Red satin accent pillow embroidered with a hea...</td>\n",
       "      <td>1</td>\n",
       "    </tr>\n",
       "    <tr>\n",
       "      <th>1</th>\n",
       "      <td>2</td>\n",
       "      <td>led christmas lights</td>\n",
       "      <td>Set of 10 Battery Operated Multi LED Train Chr...</td>\n",
       "      <td>Set of 10 Battery Operated Train Christmas Lig...</td>\n",
       "      <td>4</td>\n",
       "    </tr>\n",
       "    <tr>\n",
       "      <th>2</th>\n",
       "      <td>4</td>\n",
       "      <td>projector</td>\n",
       "      <td>ViewSonic Pro8200 DLP Multimedia Projector</td>\n",
       "      <td></td>\n",
       "      <td>4</td>\n",
       "    </tr>\n",
       "    <tr>\n",
       "      <th>3</th>\n",
       "      <td>5</td>\n",
       "      <td>wine rack</td>\n",
       "      <td>Concept Housewares WR-44526 Solid-Wood Ceiling...</td>\n",
       "      <td>Like a silent and sturdy tree, the Southern En...</td>\n",
       "      <td>4</td>\n",
       "    </tr>\n",
       "    <tr>\n",
       "      <th>4</th>\n",
       "      <td>7</td>\n",
       "      <td>light bulb</td>\n",
       "      <td>Wintergreen Lighting Christmas LED Light Bulb ...</td>\n",
       "      <td>WTGR1011\\nFeatures\\nNickel base, 60,000 averag...</td>\n",
       "      <td>2</td>\n",
       "    </tr>\n",
       "  </tbody>\n",
       "</table>\n",
       "</div>"
      ],
      "text/plain": [
       "   id                      query  \\\n",
       "0   1  bridal shower decorations   \n",
       "1   2       led christmas lights   \n",
       "2   4                  projector   \n",
       "3   5                  wine rack   \n",
       "4   7                 light bulb   \n",
       "\n",
       "                                       product_title  \\\n",
       "0        Accent Pillow with Heart Design - Red/Black   \n",
       "1  Set of 10 Battery Operated Multi LED Train Chr...   \n",
       "2         ViewSonic Pro8200 DLP Multimedia Projector   \n",
       "3  Concept Housewares WR-44526 Solid-Wood Ceiling...   \n",
       "4  Wintergreen Lighting Christmas LED Light Bulb ...   \n",
       "\n",
       "                                 product_description  median_relevance  \n",
       "0  Red satin accent pillow embroidered with a hea...                 1  \n",
       "1  Set of 10 Battery Operated Train Christmas Lig...                 4  \n",
       "2                                                                    4  \n",
       "3  Like a silent and sturdy tree, the Southern En...                 4  \n",
       "4  WTGR1011\\nFeatures\\nNickel base, 60,000 averag...                 2  "
      ]
     },
     "execution_count": 83,
     "metadata": {},
     "output_type": "execute_result"
    }
   ],
   "source": [
    "combined_df.head()"
   ]
  },
  {
   "cell_type": "code",
   "execution_count": 84,
   "id": "548c9236",
   "metadata": {},
   "outputs": [
    {
     "name": "stdout",
     "output_type": "stream",
     "text": [
      "<class 'pandas.core.frame.DataFrame'>\n",
      "Int64Index: 32671 entries, 0 to 22512\n",
      "Data columns (total 5 columns):\n",
      " #   Column               Non-Null Count  Dtype \n",
      "---  ------               --------------  ----- \n",
      " 0   id                   32671 non-null  int64 \n",
      " 1   query                32671 non-null  object\n",
      " 2   product_title        32671 non-null  object\n",
      " 3   product_description  27244 non-null  object\n",
      " 4   median_relevance     32671 non-null  int64 \n",
      "dtypes: int64(2), object(3)\n",
      "memory usage: 1.5+ MB\n"
     ]
    }
   ],
   "source": [
    "combined_df.info()"
   ]
  },
  {
   "cell_type": "code",
   "execution_count": 85,
   "id": "4a9590b9",
   "metadata": {},
   "outputs": [],
   "source": [
    "combined_df['product_description'] = combined_df['product_description'].fillna(\"\")"
   ]
  },
  {
   "cell_type": "code",
   "execution_count": 86,
   "id": "cd2a7293",
   "metadata": {},
   "outputs": [
    {
     "name": "stdout",
     "output_type": "stream",
     "text": [
      "<class 'pandas.core.frame.DataFrame'>\n",
      "Int64Index: 32671 entries, 0 to 22512\n",
      "Data columns (total 5 columns):\n",
      " #   Column               Non-Null Count  Dtype \n",
      "---  ------               --------------  ----- \n",
      " 0   id                   32671 non-null  int64 \n",
      " 1   query                32671 non-null  object\n",
      " 2   product_title        32671 non-null  object\n",
      " 3   product_description  32671 non-null  object\n",
      " 4   median_relevance     32671 non-null  int64 \n",
      "dtypes: int64(2), object(3)\n",
      "memory usage: 1.5+ MB\n"
     ]
    }
   ],
   "source": [
    "combined_df.info()"
   ]
  }
 ],
 "metadata": {
  "kernelspec": {
   "display_name": "Python 3 (ipykernel)",
   "language": "python",
   "name": "python3"
  },
  "language_info": {
   "codemirror_mode": {
    "name": "ipython",
    "version": 3
   },
   "file_extension": ".py",
   "mimetype": "text/x-python",
   "name": "python",
   "nbconvert_exporter": "python",
   "pygments_lexer": "ipython3",
   "version": "3.10.0"
  }
 },
 "nbformat": 4,
 "nbformat_minor": 5
}
